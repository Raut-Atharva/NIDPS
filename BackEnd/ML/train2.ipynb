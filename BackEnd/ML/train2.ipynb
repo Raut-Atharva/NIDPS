{
 "cells": [
  {
   "cell_type": "code",
   "execution_count": 1,
   "metadata": {},
   "outputs": [],
   "source": [
    "import numpy as np\n",
    "import pandas as pd\n",
    "from catboost import CatBoostClassifier\n",
    "from sklearn.model_selection import train_test_split\n",
    "from sklearn.metrics import classification_report, accuracy_score"
   ]
  },
  {
   "cell_type": "code",
   "execution_count": 2,
   "metadata": {},
   "outputs": [],
   "source": [
    "train_df = pd.read_csv('data/UNSW_NB15_training.csv')\n",
    "test_df = pd.read_csv('data/Book1.csv')"
   ]
  },
  {
   "cell_type": "code",
   "execution_count": 16,
   "metadata": {},
   "outputs": [],
   "source": [
    "# Assuming 'X' is your feature set and 'y' is your target\n",
    "features = ['service', 'proto', 'smean', 'sbytes', 'ct_dst_src_ltm', 'sttl', 'ct_srv_dst', 'state', 'dbytes', 'dmean', 'ct_src_dport_ltm',\n",
    "            'sload', 'ct_srv_src', 'ct_src_ltm', 'sjit', 'ct_dst_ltm', 'dload', 'dloss', 'sinpkt']\n",
    "target = 'attack_cat'\n",
    "\n",
    "X_train = train_df[features]\n",
    "y_train = train_df[target]\n",
    "\n",
    "X_test = test_df[features]\n",
    "y_test = test_df[target]"
   ]
  },
  {
   "cell_type": "code",
   "execution_count": 17,
   "metadata": {},
   "outputs": [],
   "source": [
    "from sklearn.utils.class_weight import compute_class_weight\n",
    "\n",
    "class_weights = compute_class_weight('balanced', classes=np.unique(y_train), y=y_train)\n",
    "class_weights_dict = {i: class_weights[i] for i in range(len(class_weights))}"
   ]
  },
  {
   "cell_type": "code",
   "execution_count": 18,
   "metadata": {},
   "outputs": [
    {
     "name": "stdout",
     "output_type": "stream",
     "text": [
      "Categorical Features: ['service', 'proto', 'state']\n"
     ]
    }
   ],
   "source": [
    "categorical_features = X_train.select_dtypes(include=['object', 'category']).columns.tolist()\n",
    "print(\"Categorical Features:\", categorical_features)"
   ]
  },
  {
   "cell_type": "code",
   "execution_count": 19,
   "metadata": {},
   "outputs": [
    {
     "name": "stdout",
     "output_type": "stream",
     "text": [
      "0:\tlearn: 0.4944498\ttest: 0.4950201\tbest: 0.4950201 (0)\ttotal: 638ms\tremaining: 10m 37s\n",
      "100:\tlearn: 0.6856029\ttest: 0.6844288\tbest: 0.6844288 (100)\ttotal: 56.2s\tremaining: 8m 19s\n",
      "200:\tlearn: 0.7094240\ttest: 0.7011685\tbest: 0.7012206 (199)\ttotal: 1m 47s\tremaining: 7m 5s\n",
      "300:\tlearn: 0.7231362\ttest: 0.7094345\tbest: 0.7096435 (295)\ttotal: 2m 42s\tremaining: 6m 18s\n",
      "400:\tlearn: 0.7355648\ttest: 0.7154136\tbest: 0.7154136 (400)\ttotal: 4m 39s\tremaining: 6m 57s\n",
      "500:\tlearn: 0.7443970\ttest: 0.7183147\tbest: 0.7183550 (496)\ttotal: 5m 41s\tremaining: 5m 39s\n",
      "600:\tlearn: 0.7527241\ttest: 0.7197328\tbest: 0.7197592 (599)\ttotal: 6m 41s\tremaining: 4m 26s\n",
      "700:\tlearn: 0.7588628\ttest: 0.7214399\tbest: 0.7214614 (696)\ttotal: 7m 43s\tremaining: 3m 17s\n",
      "800:\tlearn: 0.7643869\ttest: 0.7228046\tbest: 0.7229551 (795)\ttotal: 8m 46s\tremaining: 2m 10s\n",
      "900:\tlearn: 0.7697580\ttest: 0.7240681\tbest: 0.7240681 (900)\ttotal: 9m 47s\tremaining: 1m 4s\n",
      "999:\tlearn: 0.7731748\ttest: 0.7248666\tbest: 0.7249712 (995)\ttotal: 10m 50s\tremaining: 0us\n",
      "\n",
      "bestTest = 0.7249711622\n",
      "bestIteration = 995\n",
      "\n",
      "Shrink model to first 996 iterations.\n"
     ]
    },
    {
     "data": {
      "text/plain": [
       "<catboost.core.CatBoostClassifier at 0x1c604425a30>"
      ]
     },
     "execution_count": 19,
     "metadata": {},
     "output_type": "execute_result"
    }
   ],
   "source": [
    "model = CatBoostClassifier(\n",
    "    iterations=1000,\n",
    "    learning_rate=0.05,\n",
    "    depth=6,\n",
    "    loss_function='MultiClass',\n",
    "    eval_metric='Accuracy',\n",
    "    auto_class_weights='Balanced',\n",
    "    verbose=100\n",
    ")\n",
    "\n",
    "# Train with categorical features specified\n",
    "model.fit(X_train, y_train, cat_features=categorical_features, eval_set=(X_test, y_test), early_stopping_rounds=50)"
   ]
  },
  {
   "cell_type": "code",
   "execution_count": 20,
   "metadata": {},
   "outputs": [],
   "source": [
    "y_pred = model.predict(X_test)"
   ]
  },
  {
   "cell_type": "code",
   "execution_count": 21,
   "metadata": {},
   "outputs": [
    {
     "name": "stdout",
     "output_type": "stream",
     "text": [
      "Accuracy: 0.7464369428713193\n",
      "                precision    recall  f1-score   support\n",
      "\n",
      "      Analysis       0.09      0.52      0.16      2000\n",
      "      Backdoor       0.08      0.50      0.14      1746\n",
      "           DoS       0.37      0.35      0.36     12264\n",
      "      Exploits       0.89      0.46      0.61     33393\n",
      "       Fuzzers       0.60      0.86      0.71     18184\n",
      "       Generic       1.00      0.98      0.99     40000\n",
      "        Normal       1.00      0.80      0.89     56000\n",
      "Reconnaissance       0.83      0.81      0.82     10491\n",
      "     Shellcode       0.36      0.98      0.52      1133\n",
      "         Worms       0.12      1.00      0.22       130\n",
      "\n",
      "      accuracy                           0.75    175341\n",
      "     macro avg       0.53      0.72      0.54    175341\n",
      "  weighted avg       0.86      0.75      0.78    175341\n",
      "\n"
     ]
    }
   ],
   "source": [
    "print(\"Accuracy:\", accuracy_score(y_test, y_pred))\n",
    "print(classification_report(y_test, y_pred))"
   ]
  },
  {
   "cell_type": "code",
   "execution_count": 22,
   "metadata": {},
   "outputs": [
    {
     "name": "stdout",
     "output_type": "stream",
     "text": [
      "             Feature  Importance\n",
      "0            service   17.806392\n",
      "1              proto   10.997594\n",
      "5               sttl    9.749658\n",
      "3             sbytes    9.307785\n",
      "2              smean    8.892607\n",
      "4     ct_dst_src_ltm    6.305317\n",
      "6         ct_srv_dst    5.496520\n",
      "7              state    4.425178\n",
      "8             dbytes    4.300813\n",
      "9              dmean    3.462033\n",
      "10  ct_src_dport_ltm    3.322657\n",
      "11             sload    3.163245\n",
      "13        ct_src_ltm    2.781727\n",
      "18            sinpkt    2.366579\n",
      "14              sjit    2.001209\n",
      "12        ct_srv_src    1.713987\n",
      "15        ct_dst_ltm    1.624787\n",
      "16             dload    1.318615\n",
      "17             dloss    0.963296\n"
     ]
    }
   ],
   "source": [
    "feature_importance = model.get_feature_importance()\n",
    "feature_names = X_train.columns\n",
    "\n",
    "# Display top 10 important features\n",
    "important_features = pd.DataFrame({'Feature': feature_names, 'Importance': feature_importance})\n",
    "print(important_features.sort_values(by=\"Importance\", ascending=False))"
   ]
  }
 ],
 "metadata": {
  "kernelspec": {
   "display_name": "Python 3",
   "language": "python",
   "name": "python3"
  },
  "language_info": {
   "codemirror_mode": {
    "name": "ipython",
    "version": 3
   },
   "file_extension": ".py",
   "mimetype": "text/x-python",
   "name": "python",
   "nbconvert_exporter": "python",
   "pygments_lexer": "ipython3",
   "version": "3.12.7"
  }
 },
 "nbformat": 4,
 "nbformat_minor": 2
}
