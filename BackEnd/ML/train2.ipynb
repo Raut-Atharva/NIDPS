{
 "cells": [
  {
   "cell_type": "code",
   "execution_count": 7,
   "metadata": {},
   "outputs": [],
   "source": [
    "import numpy as np\n",
    "import pandas as pd\n",
    "from catboost import CatBoostClassifier\n",
    "from sklearn.model_selection import train_test_split\n",
    "from sklearn.metrics import classification_report, accuracy_score"
   ]
  },
  {
   "cell_type": "code",
   "execution_count": 8,
   "metadata": {},
   "outputs": [],
   "source": [
    "train_df = pd.read_csv('data/UNSW_NB15_training.csv')\n",
    "test_df = pd.read_csv('data/UNSW_NB15_testing.csv')"
   ]
  },
  {
   "cell_type": "code",
   "execution_count": 20,
   "metadata": {},
   "outputs": [],
   "source": [
    "# Assuming 'X' is your feature set and 'y' is your target\n",
    "target = 'attack_cat'\n",
    "features = [ \"sbytes\", \"smean\", \"sttl\", \"dtcpb\", \"stcpb\", \"dbytes\",\n",
    "    \"ct_srv_dst\", \"dload\", \"response_body_len\", \"ackdat\", \"dmean\", \"dur\",\n",
    "    \"sload\", \"ct_srv_src\", \"synack\", \"dloss\", \"ct_dst_src_ltm\", \"sjit\", \"proto\", \"service\", \"state\"\n",
    "]\n",
    "\n",
    "X_train = train_df[features]\n",
    "y_train = train_df[target]\n",
    "\n",
    "X_test = test_df[features]\n",
    "y_test = test_df[target]"
   ]
  },
  {
   "cell_type": "code",
   "execution_count": 21,
   "metadata": {},
   "outputs": [],
   "source": [
    "from sklearn.utils.class_weight import compute_class_weight\n",
    "\n",
    "class_weights = compute_class_weight('balanced', classes=np.unique(y_train), y=y_train)\n",
    "class_weights_dict = {i: class_weights[i] for i in range(len(class_weights))}"
   ]
  },
  {
   "cell_type": "code",
   "execution_count": 22,
   "metadata": {},
   "outputs": [
    {
     "name": "stdout",
     "output_type": "stream",
     "text": [
      "Categorical Features: ['proto', 'service', 'state']\n"
     ]
    }
   ],
   "source": [
    "categorical_features = X_train.select_dtypes(include=['object', 'category']).columns.tolist()\n",
    "print(\"Categorical Features:\", categorical_features)"
   ]
  },
  {
   "cell_type": "code",
   "execution_count": 23,
   "metadata": {},
   "outputs": [
    {
     "name": "stdout",
     "output_type": "stream",
     "text": [
      "0:\tlearn: 0.7075726\ttest: 0.7075726\tbest: 0.7075726 (0)\ttotal: 68.3ms\tremaining: 1m 8s\n",
      "100:\tlearn: 0.8439860\ttest: 0.8437138\tbest: 0.8440787 (99)\ttotal: 8.29s\tremaining: 1m 13s\n",
      "200:\tlearn: 0.8662011\ttest: 0.8656255\tbest: 0.8664475 (194)\ttotal: 16.9s\tremaining: 1m 7s\n",
      "300:\tlearn: 0.9101623\ttest: 0.9087464\tbest: 0.9089543 (299)\ttotal: 26.2s\tremaining: 1m\n",
      "400:\tlearn: 0.9298054\ttest: 0.9286929\tbest: 0.9286929 (400)\ttotal: 35.4s\tremaining: 52.9s\n",
      "500:\tlearn: 0.9392847\ttest: 0.9379709\tbest: 0.9379709 (500)\ttotal: 45.1s\tremaining: 44.9s\n",
      "600:\tlearn: 0.9464328\ttest: 0.9451520\tbest: 0.9451520 (600)\ttotal: 54.1s\tremaining: 35.9s\n",
      "700:\tlearn: 0.9521830\ttest: 0.9506300\tbest: 0.9507359 (699)\ttotal: 1m 3s\tremaining: 27s\n",
      "800:\tlearn: 0.9580766\ttest: 0.9561456\tbest: 0.9562826 (797)\ttotal: 1m 12s\tremaining: 18s\n",
      "900:\tlearn: 0.9610696\ttest: 0.9595497\tbest: 0.9600641 (897)\ttotal: 1m 21s\tremaining: 8.95s\n",
      "999:\tlearn: 0.9629616\ttest: 0.9613643\tbest: 0.9617443 (982)\ttotal: 1m 30s\tremaining: 0us\n",
      "\n",
      "bestTest = 0.9617443377\n",
      "bestIteration = 982\n",
      "\n",
      "Shrink model to first 983 iterations.\n"
     ]
    },
    {
     "data": {
      "text/plain": [
       "<catboost.core.CatBoostClassifier at 0x247167f2fc0>"
      ]
     },
     "execution_count": 23,
     "metadata": {},
     "output_type": "execute_result"
    }
   ],
   "source": [
    "model = CatBoostClassifier(\n",
    "    iterations=1000,\n",
    "    learning_rate=0.05,\n",
    "    depth=6,\n",
    "    loss_function='MultiClass',\n",
    "    eval_metric='Accuracy',\n",
    "    auto_class_weights='Balanced',\n",
    "    verbose=100\n",
    ")\n",
    "\n",
    "# Train with categorical features specified\n",
    "model.fit(X_train, y_train, cat_features=categorical_features, eval_set=(X_test, y_test), early_stopping_rounds=50)"
   ]
  },
  {
   "cell_type": "code",
   "execution_count": 24,
   "metadata": {},
   "outputs": [],
   "source": [
    "y_pred = model.predict(X_test)"
   ]
  },
  {
   "cell_type": "code",
   "execution_count": 25,
   "metadata": {},
   "outputs": [
    {
     "name": "stdout",
     "output_type": "stream",
     "text": [
      "Accuracy: 0.9409066666666667\n",
      "                precision    recall  f1-score   support\n",
      "\n",
      "      Backdoor       0.79      1.00      0.88        83\n",
      "           DoS       0.88      0.91      0.89      1216\n",
      "       Fuzzers       0.78      0.96      0.86       836\n",
      "       Generic       0.88      1.00      0.94       289\n",
      "        Normal       1.00      0.93      0.96      5348\n",
      "Reconnaissance       0.94      0.97      0.96      1603\n",
      "\n",
      "      accuracy                           0.94      9375\n",
      "     macro avg       0.88      0.96      0.92      9375\n",
      "  weighted avg       0.95      0.94      0.94      9375\n",
      "\n"
     ]
    }
   ],
   "source": [
    "print(\"Accuracy:\", accuracy_score(y_test, y_pred))\n",
    "print(classification_report(y_test, y_pred))"
   ]
  },
  {
   "cell_type": "code",
   "execution_count": 26,
   "metadata": {},
   "outputs": [
    {
     "name": "stdout",
     "output_type": "stream",
     "text": [
      "              Feature  Importance\n",
      "0              sbytes   12.540742\n",
      "1               smean    8.055733\n",
      "9              ackdat    7.528744\n",
      "2                sttl    7.140500\n",
      "14             synack    6.917090\n",
      "5              dbytes    6.140008\n",
      "10              dmean    5.655818\n",
      "4               stcpb    5.270881\n",
      "3               dtcpb    5.109082\n",
      "6          ct_srv_dst    5.013236\n",
      "7               dload    4.677776\n",
      "8   response_body_len    4.599335\n",
      "11                dur    4.524358\n",
      "12              sload    4.125449\n",
      "13         ct_srv_src    3.969528\n",
      "17               sjit    3.770154\n",
      "16     ct_dst_src_ltm    2.370913\n",
      "15              dloss    2.158056\n",
      "20              state    0.432598\n",
      "18              proto    0.000000\n",
      "19            service    0.000000\n"
     ]
    }
   ],
   "source": [
    "feature_importance = model.get_feature_importance()\n",
    "feature_names = X_train.columns\n",
    "\n",
    "# Display top 10 important features\n",
    "important_features = pd.DataFrame({'Feature': feature_names, 'Importance': feature_importance})\n",
    "print(important_features.sort_values(by=\"Importance\", ascending=False))"
   ]
  },
  {
   "cell_type": "code",
   "execution_count": 27,
   "metadata": {},
   "outputs": [],
   "source": [
    "import catboost\n",
    "model.save_model(\"catboost_model.cbm\")"
   ]
  }
 ],
 "metadata": {
  "kernelspec": {
   "display_name": "Python 3",
   "language": "python",
   "name": "python3"
  },
  "language_info": {
   "codemirror_mode": {
    "name": "ipython",
    "version": 3
   },
   "file_extension": ".py",
   "mimetype": "text/x-python",
   "name": "python",
   "nbconvert_exporter": "python",
   "pygments_lexer": "ipython3",
   "version": "3.12.7"
  }
 },
 "nbformat": 4,
 "nbformat_minor": 2
}
